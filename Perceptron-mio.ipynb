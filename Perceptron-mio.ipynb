{
 "cells": [
  {
   "cell_type": "code",
   "execution_count": 20,
   "metadata": {},
   "outputs": [],
   "source": [
    "import numpy as np\n",
    "import pandas as pd\n",
    "from matplotlib import pyplot as plt"
   ]
  },
  {
   "cell_type": "code",
   "execution_count": 204,
   "metadata": {},
   "outputs": [],
   "source": [
    "class Perceptron:\n",
    "    \n",
    "    def __init__(self,pesos_iniciales=[],nombre_dataset=\"\"):   \n",
    "        \n",
    "        self.dataset_original= pd.read_csv(nombre_dataset)\n",
    "        \n",
    "        self.dataset = self.dataset_numpy(self.dataset_original)\n",
    "        self.numero_entradas = len(self.dataset[0])-1\n",
    "        \n",
    "        \n",
    "        if(len(pesos_iniciales)>0):\n",
    "            self.pesos = pesos_iniciales\n",
    "        else:\n",
    "            self.pesos = np.random.randn(self.numero_entradas)      \n",
    "        print(\"pesos iniciales:\",self.pesos)\n",
    "        self.historial_pesos = []\n",
    "        \n",
    "        self.umbral = 0.5\n",
    "        self.tasa_aprendizaje = 0.1\n",
    "    \n",
    "    def entrenar(self):        \n",
    "        \n",
    "        while True:\n",
    "            contador_errores = 0\n",
    "            salidas = [0]*self.numero_entradas\n",
    "            salida_final = [0]*self.numero_entradas\n",
    "            #print(\"==========================\")\n",
    "            \n",
    "            #Recorremos el dataset desde 0 hasta el numero total de conjunto de valores (x0,x1,xn...)\n",
    "            for i in range(0,len(self.dataset)):\n",
    "                red=0\n",
    "                suma = 0\n",
    "                \n",
    "                #con este for recorremos cada valor x0,x1,xn y a la vez recorremos el arreglo de pesos y generamos\n",
    "                #la suma ponderada de las salidas\n",
    "                for j in range(0,self.numero_entradas):\n",
    "                    # W(i) = W(j) * X(i)(j)\n",
    "                    salidas[j] = self.pesos[j]*self.dataset[i][j]                    \n",
    "                    suma += salidas[j]                  \n",
    "                \n",
    "                #aqui revisamos el resultado de la salida y lo comparamos con el umbral\n",
    "                #y dado que el valor si o si lo necesitamos como numero, al valor boleando lo multiplicamos x 1 -\n",
    "                #para transformarlo\n",
    "                red = (suma>self.umbral)*1\n",
    "                \n",
    "                error = self.dataset[i][-1] - red\n",
    "                \n",
    "                #En caso de que no haya un error, no necesitamos corregir nada entonces, \n",
    "                #por lo tanto este if sirve para saltear la operacion\n",
    "                if error != 0:\n",
    "                    contador_errores +=1                \n",
    "                    correccion = error * self.tasa_aprendizaje\n",
    "                    #aplicamos las correcciones\n",
    "                    for j in range(0,self.numero_entradas):\n",
    "                        salida_final[j] = (correccion*self.dataset[i][j])+self.pesos[j]\n",
    "                \n",
    "                    self.pesos = salida_final\n",
    "                \n",
    "                #print(\"salidas:\",salidas)\n",
    "                #print(\"red:\",red)\n",
    "                #print(\"suma:\",suma)\n",
    "                #print(\"error:\",error)\n",
    "                #print(\"correccion:\",correccion)\n",
    "                #print(\"pesos salida:\",self.pesos)\n",
    "                #print(\"#####################\")\n",
    "                self.historial_pesos.append(self.pesos)\n",
    "            if contador_errores == 0:\n",
    "                break\n",
    "        print(\"Entrenamiento terminado, pesos finales:\")\n",
    "        print(self.pesos)\n",
    "        \n",
    "    def usar_valores_finales(self, datos_nuevos,if_zero, if_uno):\n",
    "            \n",
    "        salidas = [0]*self.numero_entradas\n",
    "        suma = 0\n",
    "            \n",
    "        for j in range(0,self.numero_entradas):\n",
    "            # W(i) = W(j) * X(i)(j)\n",
    "            salidas[j] = self.pesos[j]*datos_nuevos[j]                    \n",
    "            suma += salidas[j]\n",
    "        red = (suma>self.umbral)*1\n",
    "        print(red)\n",
    "        if red:\n",
    "            print(\"Es \" + if_uno)\n",
    "        else:\n",
    "            print(\"Es \" + if_zero)\n",
    "    \n",
    "    def dataset_numpy(self,dataset):\n",
    "        dataset = dataset.to_numpy()\n",
    "        return dataset\n",
    "    \n",
    "    def dataset_get_columnas(self):\n",
    "        nombres = list(self.dataset_original)\n",
    "        return nombres\n",
    "    \n",
    "    def graficar(self,columna_x,columna_y,columna_clases):\n",
    "        clases = self.dataset_original[[columna_clases]] + 3\n",
    "        clases= clases.to_numpy()\n",
    "        columnas_seleccionadas = self.dataset_original[[columna_y,columna_x]]\n",
    "        columnas_seleccionadas_numpy = columnas_seleccionadas.to_numpy()\n",
    "        y = columnas_seleccionadas_numpy[:,0];\n",
    "        x = columnas_seleccionadas_numpy[:,1];\n",
    "        plt.xlabel(columna_x)\n",
    "        plt.ylabel(columna_y)\n",
    "        plt.scatter(x,y,c=clases)\n",
    "        plt.show()"
   ]
  },
  {
   "cell_type": "code",
   "execution_count": 205,
   "metadata": {},
   "outputs": [
    {
     "name": "stdout",
     "output_type": "stream",
     "text": [
      "pesos iniciales: [ 1.55421357 -2.17857197 -0.09372471]\n",
      "Entrenamiento terminado, pesos finales:\n",
      "[6.241213574078305, -0.17857197398401947, 20.80627528740431]\n"
     ]
    }
   ],
   "source": [
    "nombre_dataset = \"prueba.csv\"\n",
    "perceptron = Perceptron(nombre_dataset=nombre_dataset)\n",
    "perceptron.entrenar()"
   ]
  },
  {
   "cell_type": "code",
   "execution_count": 104,
   "metadata": {},
   "outputs": [
    {
     "data": {
      "text/plain": [
       "['altura', 'pesos', 'sexo', 'z']"
      ]
     },
     "execution_count": 104,
     "metadata": {},
     "output_type": "execute_result"
    }
   ],
   "source": [
    "perceptron.dataset_get_columnas()"
   ]
  },
  {
   "cell_type": "code",
   "execution_count": 206,
   "metadata": {},
   "outputs": [
    {
     "data": {
      "image/png": "[encoded data removed]",
      "text/plain": [
       "<Figure size 432x288 with 1 Axes>"
      ]
     },
     "metadata": {
      "needs_background": "light"
     },
     "output_type": "display_data"
    }
   ],
   "source": [
    "perceptron.graficar('altura',\"pesos\",\"sexo\")"
   ]
  },
  {
   "cell_type": "code",
   "execution_count": 177,
   "metadata": {},
   "outputs": [],
   "source": [
    "dataset = perceptron.dataset[:,:2]\n",
    "pesos = np.asarray(perceptron.historial_pesos)"
   ]
  },
  {
   "cell_type": "code",
   "execution_count": 69,
   "metadata": {},
   "outputs": [
    {
     "name": "stdout",
     "output_type": "stream",
     "text": [
      "0\n",
      "Es Iris-setosa\n"
     ]
    }
   ],
   "source": [
    "#Caso de prueba\n",
    "sepal_length=5\n",
    "sepal_width=3.4\n",
    "petal_length=1.5\n",
    "petal_width=0.2\n",
    "\n",
    "datos =[sepal_length,\n",
    "sepal_width,\n",
    "petal_length,\n",
    "petal_width]\n",
    "perceptron.usar_valores_finales(datos,\"Iris-setosa\",\"Iris-versicolor\")"
   ]
  }
 ],
 "metadata": {
  "kernelspec": {
   "display_name": "Python 3",
   "language": "python",
   "name": "python3"
  },
  "language_info": {
   "codemirror_mode": {
    "name": "ipython",
    "version": 3
   },
   "file_extension": ".py",
   "mimetype": "text/x-python",
   "name": "python",
   "nbconvert_exporter": "python",
   "pygments_lexer": "ipython3",
   "version": "3.8.5"
  }
 },
 "nbformat": 4,
 "nbformat_minor": 4
}
